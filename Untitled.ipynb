{
 "cells": [
  {
   "source": [
    "### Current plan:\n",
    "\n",
    "1. Go trough entire dataset in batches  \n",
    "2. Dynamically loop until time range is reached  \n",
    "3. Split section into two correct time ranges (current, next)\n",
    "4. Perform analysis on time section:  \n",
    "    4.1. Count occurences  \n",
    "    4.2. Convert and save to file  \n",
    "5. Start over\n",
    "\n",
    "\n",
    "\n",
    "\n"
   ],
   "cell_type": "markdown",
   "metadata": {}
  },
  {
   "cell_type": "code",
   "execution_count": 27,
   "metadata": {},
   "outputs": [],
   "source": [
    "# from tabnanny import verbose\n",
    "# from types import coroutine\n",
    "import pandas as pd\n",
    "import numpy as np\n",
    "from PIL import Image\n",
    "from PIL import ImageColor\n",
    "from ast import literal_eval\n",
    "import numpy as np\n",
    "import moviepy.editor as mpy\n",
    "from IPython.display import display, HTML\n",
    "from tqdm import tqdm\n",
    "import wget\n",
    "import gzip\n",
    "import os\n",
    "import dask.dataframe as dd"
   ]
  },
  {
   "source": [
    "### Download dataset\n",
    "Downloads the entire dataset.  \n",
    "This can take a while with a big dataset (11.5 GB) and will depend on your internet connection.  \n",
    "You may find it easier downloading it trough the browser by copying the url to the address bar."
   ],
   "cell_type": "markdown",
   "metadata": {}
  },
  {
   "cell_type": "code",
   "execution_count": null,
   "id": "99ee53a1",
   "metadata": {},
   "outputs": [],
   "source": [
    "url = \"https://placedata.reddit.com/data/canvas-history/2022_place_canvas_history.csv.gzip\"\n",
    "\n",
    "def bar_progress(current, total, width=80):\n",
    "  progress_message = \"Downloading: %% [%d / %d] bytes\" % (current / total * 100, current, total)\n",
    "  sys.stdout.write(\"\\r\" + progress_message)\n",
    "  sys.stdout.flush()\n",
    "filename = wget.download(url,bar=bar_progress)"
   ]
  },
  {
   "cell_type": "markdown",
   "id": "4e9ebd77",
   "metadata": {},
   "source": [
    "### Extract gzip (optional)\n",
    "This step is not necessary, but can increase performance"
   ]
  },
  {
   "cell_type": "code",
   "execution_count": null,
   "id": "916f104a",
   "metadata": {},
   "outputs": [],
   "source": [
    "filename = \"2022_place_canvas_history.csv.gzip\"\n",
    "f_in = open(os.path.splitext(filename)[0])\n",
    "f_out = gzip.open(filename, 'wb')\n",
    "f_out.writelines(f_in)\n",
    "f_out.close()\n",
    "f_in.close()"
   ]
  },
  {
   "source": [
    "### Load csv dataset"
   ],
   "cell_type": "markdown",
   "metadata": {}
  },
  {
   "cell_type": "code",
   "execution_count": 33,
   "id": "c645306a",
   "metadata": {},
   "outputs": [],
   "source": [
    "\n",
    "# filename = \"2022_place_canvas_history.csv\"\n",
    "# filename = \"example_canvas_data.csv\"\n",
    "filename = \"canvas-01.csv\"\n",
    "chunksize = 10 ** 4\n",
    "data = pd.read_csv(\n",
    "    filename, \n",
    "    usecols = ['timestamp','coordinate'], \n",
    "    parse_dates=['timestamp'], \n",
    "    dtype={'coordinate':'category'}, \n",
    "    chunksize=chunksize\n",
    ")"
   ]
  },
  {
   "cell_type": "code",
   "execution_count": 35,
   "metadata": {},
   "outputs": [],
   "source": [
    "with data as reader:\n",
    "    for chunk in reader:\n",
    "        print(chunk)\n",
    "        break"
   ]
  },
  {
   "cell_type": "code",
   "execution_count": null,
   "id": "7ed6ba6e",
   "metadata": {},
   "outputs": [],
   "source": [
    "# Converts timestamp so it can be resampled (maybe not needed)\n",
    "data['timestamp'] =  pd.to_datetime(data['timestamp'],infer_datetime_format=True)"
   ]
  },
  {
   "cell_type": "code",
   "execution_count": 13,
   "id": "3430fea7",
   "metadata": {},
   "outputs": [
    {
     "output_type": "stream",
     "name": "stdout",
     "text": [
      "Index : timestamp, Value : Dask Series Structure:\nnpartitions=1\n    datetime64[ns, UTC]\n                    ...\nName: timestamp, dtype: datetime64[ns, UTC]\nDask Name: getitem, 2 tasks\n"
     ]
    }
   ],
   "source": [
    "for index, value in data.items():\n",
    "        print(f\"Index : {index}, Value : {value}\")\n",
    "        break"
   ]
  },
  {
   "cell_type": "code",
   "execution_count": 21,
   "id": "a0484eb3",
   "metadata": {},
   "outputs": [
    {
     "output_type": "stream",
     "name": "stdout",
     "text": [
      "(Timestamp('2022-04-03 17:35:00+0000', tz='UTC', freq='5T'),                           timestamp coordinate\n0  2022-04-03 17:38:20.021000+00:00    371,488\n1  2022-04-03 17:38:20.024000+00:00    457,493\n2  2022-04-03 17:38:20.025000+00:00     65,986\n3  2022-04-03 17:38:20.025000+00:00     73,961\n4  2022-04-03 17:38:20.026000+00:00   1865,290\n5  2022-04-03 17:38:20.027000+00:00    210,513\n6  2022-04-03 17:38:20.028000+00:00   1334,451\n7  2022-04-03 17:38:20.040000+00:00     78,974\n8  2022-04-03 17:38:20.041000+00:00     73,954\n9  2022-04-03 17:38:20.049000+00:00    335,975\n10 2022-04-03 17:38:20.072000+00:00   1277,332\n11 2022-04-03 17:38:20.073000+00:00     60,918\n12 2022-04-03 17:38:20.073000+00:00    449,328\n13 2022-04-03 17:38:20.074000+00:00    750,968\n14 2022-04-03 17:38:20.074000+00:00     41,991\n15 2022-04-03 17:38:20.074000+00:00     19,976\n16 2022-04-03 17:38:20.074000+00:00    339,518\n17 2022-04-03 17:38:20.076000+00:00     19,122\n18 2022-04-03 17:38:20.076000+00:00     72,962\n19 2022-04-03 17:38:20.077000+00:00    345,471\n20 2022-04-03 17:38:20.077000+00:00     16,949)\n"
     ]
    }
   ],
   "source": [
    "# , on='timestamp'\n",
    "# for g in data.groupby(['timestamp',pd.Grouper(freq='10min')]):\n",
    "for g in data.resample('5min', on='timestamp'):\n",
    "\n",
    "    \n",
    "    print(g)\n",
    "    break"
   ]
  },
  {
   "cell_type": "code",
   "execution_count": null,
   "id": "9362b0e1",
   "metadata": {},
   "outputs": [],
   "source": [
    "for row in data.resample('5min', on='timestamp'):\n",
    "    # row = next(csv_content)\n",
    "    canvas = np.zeros( (2000,2000,1))\n",
    "        \n",
    "    row[\"pixel_color\"] = row[\"pixel_color\"].apply(lambda hex: ImageColor.getcolor(hex, \"RGB\")).apply(np.array)    \n",
    "    row['coordinate'] = row[\"coordinate\"].apply(literal_eval).apply(np.array)\n",
    "\n",
    "    coords = list(zip(*row[\"coordinate\"]))\n",
    "\n",
    "    canvas[coords[1], coords[0]] = [*row[\"pixel_color\"]]\n",
    "\n",
    "    img = Image.fromarray(np.uint8(canvas / 1000) , 'L')\n",
    "    img.show()\n",
    "    break"
   ]
  },
  {
   "cell_type": "code",
   "execution_count": null,
   "id": "2465db39",
   "metadata": {},
   "outputs": [],
   "source": []
  },
  {
   "cell_type": "code",
   "execution_count": null,
   "id": "b4b8b828",
   "metadata": {},
   "outputs": [],
   "source": [
    "val_counts = data[\"coordinate\"].value_counts()"
   ]
  },
  {
   "cell_type": "code",
   "execution_count": null,
   "id": "500c2baf",
   "metadata": {},
   "outputs": [],
   "source": [
    "val_counts[0]"
   ]
  },
  {
   "cell_type": "code",
   "execution_count": null,
   "metadata": {},
   "outputs": [],
   "source": [
    "val_counts_t = list(zip(*val_counts))\n",
    "val_counts_t"
   ]
  },
  {
   "cell_type": "code",
   "execution_count": null,
   "id": "1e79e877",
   "metadata": {},
   "outputs": [],
   "source": [
    "coords = val_counts[0].apply(literal_eval).to_frame().apply(np.array)"
   ]
  },
  {
   "cell_type": "code",
   "execution_count": null,
   "id": "3c43689d",
   "metadata": {},
   "outputs": [],
   "source": [
    "coords = val_counts[0].apply(literal_eval).to_frame().apply(np.array)\n",
    "\n",
    "coords = list(zip(*coords))\n",
    "\n",
    "canvas[coords[1], coords[0]] = [*val_counts[1].apply(np.array)]\n",
    "\n",
    "img = Image.fromarray(np.uint8(canvas / 1000) , 'L')\n",
    "img.show()"
   ]
  },
  {
   "cell_type": "code",
   "execution_count": null,
   "id": "90e117be",
   "metadata": {},
   "outputs": [],
   "source": [
    "val_counts.info()"
   ]
  },
  {
   "cell_type": "code",
   "execution_count": null,
   "id": "6d9f458a",
   "metadata": {},
   "outputs": [],
   "source": [
    "display(val_counts)"
   ]
  },
  {
   "cell_type": "code",
   "execution_count": null,
   "id": "98c2213b",
   "metadata": {},
   "outputs": [],
   "source": [
    "canvas = np.full( (2000,2000),0)\n",
    "val_counts.keys()\n",
    "i = 0\n",
    "for _,(indx,val) in enumerate(val_counts.iteritems()):\n",
    "    i+=1\n",
    "    pos = indx.split(\",\")\n",
    "    x = int(pos[0])\n",
    "    y = int(pos[1])\n",
    "    canvas[y,x] = val\n",
    "    if(i<10): print(x,y,val)\n",
    "    # print('row number: ', rownum, 'index: ', indx, 'value: ', val)"
   ]
  },
  {
   "cell_type": "code",
   "execution_count": null,
   "id": "54646ce5",
   "metadata": {},
   "outputs": [],
   "source": [
    "img = Image.fromarray(np.uint8(canvas / 1000) , 'L')\n",
    "img.show()"
   ]
  },
  {
   "cell_type": "code",
   "execution_count": null,
   "id": "9dba41c3",
   "metadata": {},
   "outputs": [],
   "source": []
  },
  {
   "cell_type": "code",
   "execution_count": null,
   "id": "f5452488",
   "metadata": {},
   "outputs": [],
   "source": [
    "\n",
    "img = Image.fromarray(np.uint8( canvas * (255/100) ) , 'L')\n",
    "img.show()"
   ]
  },
  {
   "cell_type": "code",
   "execution_count": null,
   "id": "c93e0eb5",
   "metadata": {},
   "outputs": [],
   "source": [
    "def make_frame(t):\n",
    "    pass"
   ]
  },
  {
   "cell_type": "code",
   "execution_count": null,
   "id": "cb912ad9",
   "metadata": {},
   "outputs": [],
   "source": [
    "    clip = mpy.VideoClip(make_frame, duration=15.0)\n",
    "    clip.write_gif('ani.gif', fps=10)"
   ]
  }
 ],
 "metadata": {
  "interpreter": {
   "hash": "f6a45ae6d46291290ea510dc5f0c851e54d361080dc62df8a60458580498c4af"
  },
  "kernelspec": {
   "name": "python3",
   "display_name": "Python 3.9.10 64-bit",
   "metadata": {
    "interpreter": {
     "hash": "3a1ff42228bfa4f88a05f2ee9535fccc84a5aaba20b035854dae94b7ccf3523a"
    }
   }
  },
  "language_info": {
   "codemirror_mode": {
    "name": "ipython",
    "version": 3
   },
   "file_extension": ".py",
   "mimetype": "text/x-python",
   "name": "python",
   "nbconvert_exporter": "python",
   "pygments_lexer": "ipython3",
   "version": "3.9.10-final"
  }
 },
 "nbformat": 4,
 "nbformat_minor": 5
}