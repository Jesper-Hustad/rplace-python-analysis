{
 "cells": [
  {
   "cell_type": "code",
   "execution_count": 58,
   "metadata": {},
   "outputs": [],
   "source": [
    "from tabnanny import verbose\n",
    "from types import coroutine\n",
    "import pandas as pd\n",
    "import numpy as np\n",
    "from PIL import Image\n",
    "from PIL import ImageColor\n",
    "from ast import literal_eval\n",
    "import numpy as np\n",
    "import moviepy.editor as mpy\n",
    "from IPython.display import display, HTML\n",
    "from tqdm import tqdm\n",
    "import wget\n",
    "import gzip\n",
    "import os"
   ]
  },
  {
   "cell_type": "markdown",
   "id": "55776a68",
   "metadata": {},
   "source": [
    "### Download dataset\n",
    "This can take a while with a big dataset.  \n",
    "Will depend on your internet connection."
   ]
  },
  {
   "cell_type": "code",
   "execution_count": 52,
   "id": "99ee53a1",
   "metadata": {},
   "outputs": [
    {
     "name": "stdout",
     "output_type": "stream",
     "text": [
      "annual-enterprise-survey-2020-financial-year-provisional-size-bands-csv (1).csv\n"
     ]
    }
   ],
   "source": [
    "url = \"https://stats.govt.nz/assets/Uploads/Annual-enterprise-survey/Annual-enterprise-survey-2020-financial-year-provisional/Download-data/annual-enterprise-survey-2020-financial-year-provisional-size-bands-csv.csv\"\n",
    "filename = wget.download(url)"
   ]
  },
  {
   "cell_type": "markdown",
   "id": "4e9ebd77",
   "metadata": {},
   "source": [
    "### Extract gzip (optional)\n",
    "This step is not necessary, but can increase performance"
   ]
  },
  {
   "cell_type": "code",
   "execution_count": null,
   "id": "916f104a",
   "metadata": {},
   "outputs": [],
   "source": [
    "\n",
    "f_in = open(os.path.splitext(filename)[0])\n",
    "f_out = gzip.open(filename, 'wb')\n",
    "f_out.writelines(f_in)\n",
    "f_out.close()\n",
    "f_in.close()"
   ]
  },
  {
   "cell_type": "code",
   "execution_count": 8,
   "id": "caa45343",
   "metadata": {},
   "outputs": [],
   "source": [
    "tqdm.pandas()"
   ]
  },
  {
   "cell_type": "code",
   "execution_count": 3,
   "id": "c645306a",
   "metadata": {},
   "outputs": [],
   "source": [
    "filename = \"2022_place_canvas_history-000000000000.csv\"\n",
    "data = pd.read_csv(filename)"
   ]
  },
  {
   "cell_type": "code",
   "execution_count": 5,
   "id": "7ed6ba6e",
   "metadata": {},
   "outputs": [],
   "source": [
    "data['timestamp'] =  pd.to_datetime(data['timestamp'],infer_datetime_format=True)"
   ]
  },
  {
   "cell_type": "code",
   "execution_count": 40,
   "id": "3430fea7",
   "metadata": {},
   "outputs": [
    {
     "name": "stdout",
     "output_type": "stream",
     "text": [
      "Index : timestamp, Value : 0         2022-04-03 17:38:20.021000+00:00\n",
      "1         2022-04-03 17:38:20.024000+00:00\n",
      "2         2022-04-03 17:38:20.025000+00:00\n",
      "3         2022-04-03 17:38:20.025000+00:00\n",
      "4         2022-04-03 17:38:20.026000+00:00\n",
      "                        ...               \n",
      "1900739   2022-04-03 18:22:31.517000+00:00\n",
      "1900740   2022-04-03 18:22:31.518000+00:00\n",
      "1900741   2022-04-03 18:22:31.518000+00:00\n",
      "1900742   2022-04-03 18:22:31.519000+00:00\n",
      "1900743   2022-04-03 18:22:31.522000+00:00\n",
      "Name: timestamp, Length: 1900744, dtype: datetime64[ns, UTC]\n",
      "Index : user_id, Value : 0          p0sXpmkcmg1KLiCdK5e4xKdudb1f8cjscGs35082sKpGBf...\n",
      "1          Ctar52ln5JEpXT+tVVc8BtQwm1tPjRwPZmPvuamzsZDlFD...\n",
      "2          rNMF5wpFYT2RAItySLf9IcFZwOhczQhkRhmTD4gv0K78Dp...\n",
      "3          u0a7l8hHVvncqYmav27EARAE6ciLtpUTPXMI33lDrUmtj5...\n",
      "4          L8P+AXoFbbXPh2zBAkkXk96UrkKpB5hLq5gBMwvgSV0H4f...\n",
      "                                 ...                        \n",
      "1900739    7X+K1nIZ9eBAZj3yxrSNFG33jIMSKaiS7AGGtzt+DG6jbs...\n",
      "1900740    bpW54OZm6y3PWrz3t9ZyqOXnk1aIyEC9jXKinZAeGkdOqs...\n",
      "1900741    dAy0nZAW1LZRD9/q+sl6BAmjmEBVc9NLy8xxyWMFJAac2J...\n",
      "1900742    MB7wpyWzXIsNvltddytPIbJ3vcINDFigZM51fmvLp8/ffj...\n",
      "1900743    Md82djzbpDNZjIWW6JIyEKWAcUaMEr9Ahfaej4TFBES2n1...\n",
      "Name: user_id, Length: 1900744, dtype: object\n",
      "Index : pixel_color, Value : 0          #FF4500\n",
      "1          #51E9F4\n",
      "2          #000000\n",
      "3          #3690EA\n",
      "4          #FF4500\n",
      "            ...   \n",
      "1900739    #898D90\n",
      "1900740    #6A5CFF\n",
      "1900741    #000000\n",
      "1900742    #BE0039\n",
      "1900743    #FF4500\n",
      "Name: pixel_color, Length: 1900744, dtype: object\n",
      "Index : coordinate, Value : 0           371,488\n",
      "1           457,493\n",
      "2            65,986\n",
      "3            73,961\n",
      "4          1865,290\n",
      "             ...   \n",
      "1900739     178,593\n",
      "1900740    1083,520\n",
      "1900741      162,24\n",
      "1900742    1695,393\n",
      "1900743     313,498\n",
      "Name: coordinate, Length: 1900744, dtype: object\n"
     ]
    }
   ],
   "source": [
    "for index, value in data.items():\n",
    "        print(f\"Index : {index}, Value : {value}\")"
   ]
  },
  {
   "cell_type": "code",
   "execution_count": 47,
   "id": "a0484eb3",
   "metadata": {},
   "outputs": [
    {
     "ename": "IndexError",
     "evalue": "tuple index out of range",
     "output_type": "error",
     "traceback": [
      "\u001b[1;31m---------------------------------------------------------------------------\u001b[0m",
      "\u001b[1;31mIndexError\u001b[0m                                Traceback (most recent call last)",
      "\u001b[1;32mc:\\Users\\jsp\\OneDrive - NTNU\\Desktop\\place-data\\Untitled.ipynb Cell 6'\u001b[0m in \u001b[0;36m<cell line: 2>\u001b[1;34m()\u001b[0m\n\u001b[0;32m      <a href='vscode-notebook-cell:/c%3A/Users/jsp/OneDrive%20-%20NTNU/Desktop/place-data/Untitled.ipynb#ch0000003?line=0'>1</a>\u001b[0m \u001b[39m# for g in data.groupby(['timestamp',pd.Grouper(freq='10min')]):\u001b[39;00m\n\u001b[0;32m      <a href='vscode-notebook-cell:/c%3A/Users/jsp/OneDrive%20-%20NTNU/Desktop/place-data/Untitled.ipynb#ch0000003?line=1'>2</a>\u001b[0m \u001b[39mfor\u001b[39;00m g \u001b[39min\u001b[39;00m data\u001b[39m.\u001b[39mresample(\u001b[39m'\u001b[39m\u001b[39m5min\u001b[39m\u001b[39m'\u001b[39m, on\u001b[39m=\u001b[39m\u001b[39m'\u001b[39m\u001b[39mtimestamp\u001b[39m\u001b[39m'\u001b[39m):\n\u001b[1;32m----> <a href='vscode-notebook-cell:/c%3A/Users/jsp/OneDrive%20-%20NTNU/Desktop/place-data/Untitled.ipynb#ch0000003?line=4'>5</a>\u001b[0m     \u001b[39mprint\u001b[39m(g[\u001b[39m2\u001b[39;49m])\n\u001b[0;32m      <a href='vscode-notebook-cell:/c%3A/Users/jsp/OneDrive%20-%20NTNU/Desktop/place-data/Untitled.ipynb#ch0000003?line=5'>6</a>\u001b[0m     \u001b[39mbreak\u001b[39;00m\n",
      "\u001b[1;31mIndexError\u001b[0m: tuple index out of range"
     ]
    }
   ],
   "source": [
    "\n",
    "# for g in data.groupby(['timestamp',pd.Grouper(freq='10min')]):\n",
    "for g in data.resample('5min', on='timestamp'):\n",
    "\n",
    "    \n",
    "    print(g[2])\n",
    "    break"
   ]
  },
  {
   "cell_type": "code",
   "execution_count": 9,
   "id": "9362b0e1",
   "metadata": {},
   "outputs": [
    {
     "ename": "TypeError",
     "evalue": "tuple indices must be integers or slices, not str",
     "output_type": "error",
     "traceback": [
      "\u001b[1;31m---------------------------------------------------------------------------\u001b[0m",
      "\u001b[1;31mTypeError\u001b[0m                                 Traceback (most recent call last)",
      "\u001b[1;32mc:\\Users\\jsp\\OneDrive - NTNU\\Desktop\\place-data\\Untitled.ipynb Cell 6'\u001b[0m in \u001b[0;36m<cell line: 1>\u001b[1;34m()\u001b[0m\n\u001b[0;32m      <a href='vscode-notebook-cell:/c%3A/Users/jsp/OneDrive%20-%20NTNU/Desktop/place-data/Untitled.ipynb#ch0000014?line=0'>1</a>\u001b[0m \u001b[39mfor\u001b[39;00m row \u001b[39min\u001b[39;00m data\u001b[39m.\u001b[39mresample(\u001b[39m'\u001b[39m\u001b[39m5min\u001b[39m\u001b[39m'\u001b[39m, on\u001b[39m=\u001b[39m\u001b[39m'\u001b[39m\u001b[39mtimestamp\u001b[39m\u001b[39m'\u001b[39m):\n\u001b[0;32m      <a href='vscode-notebook-cell:/c%3A/Users/jsp/OneDrive%20-%20NTNU/Desktop/place-data/Untitled.ipynb#ch0000014?line=1'>2</a>\u001b[0m     \u001b[39m# row = next(csv_content)\u001b[39;00m\n\u001b[0;32m      <a href='vscode-notebook-cell:/c%3A/Users/jsp/OneDrive%20-%20NTNU/Desktop/place-data/Untitled.ipynb#ch0000014?line=2'>3</a>\u001b[0m     canvas \u001b[39m=\u001b[39m np\u001b[39m.\u001b[39mzeros( (\u001b[39m2000\u001b[39m,\u001b[39m2000\u001b[39m,\u001b[39m1\u001b[39m))\n\u001b[1;32m----> <a href='vscode-notebook-cell:/c%3A/Users/jsp/OneDrive%20-%20NTNU/Desktop/place-data/Untitled.ipynb#ch0000014?line=4'>5</a>\u001b[0m     row[\u001b[39m\"\u001b[39m\u001b[39mpixel_color\u001b[39m\u001b[39m\"\u001b[39m] \u001b[39m=\u001b[39m row[\u001b[39m\"\u001b[39;49m\u001b[39mpixel_color\u001b[39;49m\u001b[39m\"\u001b[39;49m]\u001b[39m.\u001b[39mapply(\u001b[39mlambda\u001b[39;00m \u001b[39mhex\u001b[39m: ImageColor\u001b[39m.\u001b[39mgetcolor(\u001b[39mhex\u001b[39m, \u001b[39m\"\u001b[39m\u001b[39mRGB\u001b[39m\u001b[39m\"\u001b[39m))\u001b[39m.\u001b[39mapply(np\u001b[39m.\u001b[39marray)    \n\u001b[0;32m      <a href='vscode-notebook-cell:/c%3A/Users/jsp/OneDrive%20-%20NTNU/Desktop/place-data/Untitled.ipynb#ch0000014?line=5'>6</a>\u001b[0m     row[\u001b[39m'\u001b[39m\u001b[39mcoordinate\u001b[39m\u001b[39m'\u001b[39m] \u001b[39m=\u001b[39m row[\u001b[39m\"\u001b[39m\u001b[39mcoordinate\u001b[39m\u001b[39m\"\u001b[39m]\u001b[39m.\u001b[39mapply(literal_eval)\u001b[39m.\u001b[39mapply(np\u001b[39m.\u001b[39marray)\n\u001b[0;32m      <a href='vscode-notebook-cell:/c%3A/Users/jsp/OneDrive%20-%20NTNU/Desktop/place-data/Untitled.ipynb#ch0000014?line=7'>8</a>\u001b[0m     coords \u001b[39m=\u001b[39m \u001b[39mlist\u001b[39m(\u001b[39mzip\u001b[39m(\u001b[39m*\u001b[39mrow[\u001b[39m\"\u001b[39m\u001b[39mcoordinate\u001b[39m\u001b[39m\"\u001b[39m]))\n",
      "\u001b[1;31mTypeError\u001b[0m: tuple indices must be integers or slices, not str"
     ]
    }
   ],
   "source": [
    "for row in data.resample('5min', on='timestamp'):\n",
    "    # row = next(csv_content)\n",
    "    canvas = np.zeros( (2000,2000,1))\n",
    "        \n",
    "    row[\"pixel_color\"] = row[\"pixel_color\"].apply(lambda hex: ImageColor.getcolor(hex, \"RGB\")).apply(np.array)    \n",
    "    row['coordinate'] = row[\"coordinate\"].apply(literal_eval).apply(np.array)\n",
    "\n",
    "    coords = list(zip(*row[\"coordinate\"]))\n",
    "\n",
    "    canvas[coords[1], coords[0]] = [*row[\"pixel_color\"]]\n",
    "\n",
    "    img = Image.fromarray(np.uint8(canvas / 1000) , 'L')\n",
    "    img.show()\n",
    "    break"
   ]
  },
  {
   "cell_type": "code",
   "execution_count": null,
   "id": "2465db39",
   "metadata": {},
   "outputs": [],
   "source": []
  },
  {
   "cell_type": "code",
   "execution_count": 36,
   "id": "b4b8b828",
   "metadata": {},
   "outputs": [],
   "source": [
    "val_counts = data[\"coordinate\"].value_counts()"
   ]
  },
  {
   "cell_type": "code",
   "execution_count": 32,
   "id": "500c2baf",
   "metadata": {},
   "outputs": [
    {
     "data": {
      "text/plain": [
       "984"
      ]
     },
     "execution_count": 32,
     "metadata": {},
     "output_type": "execute_result"
    }
   ],
   "source": [
    "val_counts[0]"
   ]
  },
  {
   "cell_type": "code",
   "execution_count": 37,
   "metadata": {},
   "outputs": [
    {
     "ename": "TypeError",
     "evalue": "'int' object is not iterable",
     "output_type": "error",
     "traceback": [
      "\u001b[1;31m---------------------------------------------------------------------------\u001b[0m",
      "\u001b[1;31mTypeError\u001b[0m                                 Traceback (most recent call last)",
      "\u001b[1;32mc:\\Users\\jsp\\OneDrive - NTNU\\Desktop\\place-data\\Untitled.ipynb Cell 10'\u001b[0m in \u001b[0;36m<cell line: 1>\u001b[1;34m()\u001b[0m\n\u001b[1;32m----> <a href='vscode-notebook-cell:/c%3A/Users/jsp/OneDrive%20-%20NTNU/Desktop/place-data/Untitled.ipynb#ch0000018?line=0'>1</a>\u001b[0m val_counts_t \u001b[39m=\u001b[39m \u001b[39mlist\u001b[39m(\u001b[39mzip\u001b[39;49m(\u001b[39m*\u001b[39;49mval_counts))\n\u001b[0;32m      <a href='vscode-notebook-cell:/c%3A/Users/jsp/OneDrive%20-%20NTNU/Desktop/place-data/Untitled.ipynb#ch0000018?line=1'>2</a>\u001b[0m val_counts_t\n",
      "\u001b[1;31mTypeError\u001b[0m: 'int' object is not iterable"
     ]
    }
   ],
   "source": [
    "val_counts_t = list(zip(*val_counts))\n",
    "val_counts_t"
   ]
  },
  {
   "cell_type": "code",
   "execution_count": 34,
   "id": "1e79e877",
   "metadata": {},
   "outputs": [
    {
     "ename": "AttributeError",
     "evalue": "'numpy.int64' object has no attribute 'apply'",
     "output_type": "error",
     "traceback": [
      "\u001b[1;31m---------------------------------------------------------------------------\u001b[0m",
      "\u001b[1;31mAttributeError\u001b[0m                            Traceback (most recent call last)",
      "\u001b[1;32mc:\\Users\\jsp\\OneDrive - NTNU\\Desktop\\place-data\\Untitled.ipynb Cell 11'\u001b[0m in \u001b[0;36m<cell line: 1>\u001b[1;34m()\u001b[0m\n\u001b[1;32m----> <a href='vscode-notebook-cell:/c%3A/Users/jsp/OneDrive%20-%20NTNU/Desktop/place-data/Untitled.ipynb#ch0000017?line=0'>1</a>\u001b[0m coords \u001b[39m=\u001b[39m val_counts[\u001b[39m0\u001b[39;49m]\u001b[39m.\u001b[39;49mapply(literal_eval)\u001b[39m.\u001b[39mto_frame()\u001b[39m.\u001b[39mapply(np\u001b[39m.\u001b[39marray)\n",
      "\u001b[1;31mAttributeError\u001b[0m: 'numpy.int64' object has no attribute 'apply'"
     ]
    }
   ],
   "source": [
    "coords = val_counts[0].apply(literal_eval).to_frame().apply(np.array)"
   ]
  },
  {
   "cell_type": "code",
   "execution_count": 16,
   "id": "3c43689d",
   "metadata": {},
   "outputs": [
    {
     "ename": "KeyError",
     "evalue": "0",
     "output_type": "error",
     "traceback": [
      "\u001b[1;31m---------------------------------------------------------------------------\u001b[0m",
      "\u001b[1;31mKeyError\u001b[0m                                  Traceback (most recent call last)",
      "File \u001b[1;32mC:\\Python310\\lib\\site-packages\\pandas\\core\\indexes\\base.py:3621\u001b[0m, in \u001b[0;36mIndex.get_loc\u001b[1;34m(self, key, method, tolerance)\u001b[0m\n\u001b[0;32m   <a href='file:///c%3A/Python310/lib/site-packages/pandas/core/indexes/base.py?line=3619'>3620</a>\u001b[0m \u001b[39mtry\u001b[39;00m:\n\u001b[1;32m-> <a href='file:///c%3A/Python310/lib/site-packages/pandas/core/indexes/base.py?line=3620'>3621</a>\u001b[0m     \u001b[39mreturn\u001b[39;00m \u001b[39mself\u001b[39;49m\u001b[39m.\u001b[39;49m_engine\u001b[39m.\u001b[39;49mget_loc(casted_key)\n\u001b[0;32m   <a href='file:///c%3A/Python310/lib/site-packages/pandas/core/indexes/base.py?line=3621'>3622</a>\u001b[0m \u001b[39mexcept\u001b[39;00m \u001b[39mKeyError\u001b[39;00m \u001b[39mas\u001b[39;00m err:\n",
      "File \u001b[1;32mC:\\Python310\\lib\\site-packages\\pandas\\_libs\\index.pyx:136\u001b[0m, in \u001b[0;36mpandas._libs.index.IndexEngine.get_loc\u001b[1;34m()\u001b[0m\n",
      "File \u001b[1;32mC:\\Python310\\lib\\site-packages\\pandas\\_libs\\index.pyx:163\u001b[0m, in \u001b[0;36mpandas._libs.index.IndexEngine.get_loc\u001b[1;34m()\u001b[0m\n",
      "File \u001b[1;32mpandas\\_libs\\hashtable_class_helper.pxi:5198\u001b[0m, in \u001b[0;36mpandas._libs.hashtable.PyObjectHashTable.get_item\u001b[1;34m()\u001b[0m\n",
      "File \u001b[1;32mpandas\\_libs\\hashtable_class_helper.pxi:5206\u001b[0m, in \u001b[0;36mpandas._libs.hashtable.PyObjectHashTable.get_item\u001b[1;34m()\u001b[0m\n",
      "\u001b[1;31mKeyError\u001b[0m: 0",
      "\nThe above exception was the direct cause of the following exception:\n",
      "\u001b[1;31mKeyError\u001b[0m                                  Traceback (most recent call last)",
      "\u001b[1;32mc:\\Users\\jsp\\OneDrive - NTNU\\Desktop\\place-data\\Untitled.ipynb Cell 9'\u001b[0m in \u001b[0;36m<cell line: 1>\u001b[1;34m()\u001b[0m\n\u001b[1;32m----> <a href='vscode-notebook-cell:/c%3A/Users/jsp/OneDrive%20-%20NTNU/Desktop/place-data/Untitled.ipynb#ch0000016?line=0'>1</a>\u001b[0m coords \u001b[39m=\u001b[39m val_counts[\u001b[39m0\u001b[39;49m]\u001b[39m.\u001b[39mapply(literal_eval)\u001b[39m.\u001b[39mto_frame()\u001b[39m.\u001b[39mapply(np\u001b[39m.\u001b[39marray)\n\u001b[0;32m      <a href='vscode-notebook-cell:/c%3A/Users/jsp/OneDrive%20-%20NTNU/Desktop/place-data/Untitled.ipynb#ch0000016?line=2'>3</a>\u001b[0m coords \u001b[39m=\u001b[39m \u001b[39mlist\u001b[39m(\u001b[39mzip\u001b[39m(\u001b[39m*\u001b[39mcoords))\n\u001b[0;32m      <a href='vscode-notebook-cell:/c%3A/Users/jsp/OneDrive%20-%20NTNU/Desktop/place-data/Untitled.ipynb#ch0000016?line=4'>5</a>\u001b[0m canvas[coords[\u001b[39m1\u001b[39m], coords[\u001b[39m0\u001b[39m]] \u001b[39m=\u001b[39m [\u001b[39m*\u001b[39mval_counts[\u001b[39m1\u001b[39m]\u001b[39m.\u001b[39mapply(np\u001b[39m.\u001b[39marray)]\n",
      "File \u001b[1;32mC:\\Python310\\lib\\site-packages\\pandas\\core\\frame.py:3505\u001b[0m, in \u001b[0;36mDataFrame.__getitem__\u001b[1;34m(self, key)\u001b[0m\n\u001b[0;32m   <a href='file:///c%3A/Python310/lib/site-packages/pandas/core/frame.py?line=3502'>3503</a>\u001b[0m \u001b[39mif\u001b[39;00m \u001b[39mself\u001b[39m\u001b[39m.\u001b[39mcolumns\u001b[39m.\u001b[39mnlevels \u001b[39m>\u001b[39m \u001b[39m1\u001b[39m:\n\u001b[0;32m   <a href='file:///c%3A/Python310/lib/site-packages/pandas/core/frame.py?line=3503'>3504</a>\u001b[0m     \u001b[39mreturn\u001b[39;00m \u001b[39mself\u001b[39m\u001b[39m.\u001b[39m_getitem_multilevel(key)\n\u001b[1;32m-> <a href='file:///c%3A/Python310/lib/site-packages/pandas/core/frame.py?line=3504'>3505</a>\u001b[0m indexer \u001b[39m=\u001b[39m \u001b[39mself\u001b[39;49m\u001b[39m.\u001b[39;49mcolumns\u001b[39m.\u001b[39;49mget_loc(key)\n\u001b[0;32m   <a href='file:///c%3A/Python310/lib/site-packages/pandas/core/frame.py?line=3505'>3506</a>\u001b[0m \u001b[39mif\u001b[39;00m is_integer(indexer):\n\u001b[0;32m   <a href='file:///c%3A/Python310/lib/site-packages/pandas/core/frame.py?line=3506'>3507</a>\u001b[0m     indexer \u001b[39m=\u001b[39m [indexer]\n",
      "File \u001b[1;32mC:\\Python310\\lib\\site-packages\\pandas\\core\\indexes\\base.py:3623\u001b[0m, in \u001b[0;36mIndex.get_loc\u001b[1;34m(self, key, method, tolerance)\u001b[0m\n\u001b[0;32m   <a href='file:///c%3A/Python310/lib/site-packages/pandas/core/indexes/base.py?line=3620'>3621</a>\u001b[0m     \u001b[39mreturn\u001b[39;00m \u001b[39mself\u001b[39m\u001b[39m.\u001b[39m_engine\u001b[39m.\u001b[39mget_loc(casted_key)\n\u001b[0;32m   <a href='file:///c%3A/Python310/lib/site-packages/pandas/core/indexes/base.py?line=3621'>3622</a>\u001b[0m \u001b[39mexcept\u001b[39;00m \u001b[39mKeyError\u001b[39;00m \u001b[39mas\u001b[39;00m err:\n\u001b[1;32m-> <a href='file:///c%3A/Python310/lib/site-packages/pandas/core/indexes/base.py?line=3622'>3623</a>\u001b[0m     \u001b[39mraise\u001b[39;00m \u001b[39mKeyError\u001b[39;00m(key) \u001b[39mfrom\u001b[39;00m \u001b[39merr\u001b[39;00m\n\u001b[0;32m   <a href='file:///c%3A/Python310/lib/site-packages/pandas/core/indexes/base.py?line=3623'>3624</a>\u001b[0m \u001b[39mexcept\u001b[39;00m \u001b[39mTypeError\u001b[39;00m:\n\u001b[0;32m   <a href='file:///c%3A/Python310/lib/site-packages/pandas/core/indexes/base.py?line=3624'>3625</a>\u001b[0m     \u001b[39m# If we have a listlike key, _check_indexing_error will raise\u001b[39;00m\n\u001b[0;32m   <a href='file:///c%3A/Python310/lib/site-packages/pandas/core/indexes/base.py?line=3625'>3626</a>\u001b[0m     \u001b[39m#  InvalidIndexError. Otherwise we fall through and re-raise\u001b[39;00m\n\u001b[0;32m   <a href='file:///c%3A/Python310/lib/site-packages/pandas/core/indexes/base.py?line=3626'>3627</a>\u001b[0m     \u001b[39m#  the TypeError.\u001b[39;00m\n\u001b[0;32m   <a href='file:///c%3A/Python310/lib/site-packages/pandas/core/indexes/base.py?line=3627'>3628</a>\u001b[0m     \u001b[39mself\u001b[39m\u001b[39m.\u001b[39m_check_indexing_error(key)\n",
      "\u001b[1;31mKeyError\u001b[0m: 0"
     ]
    }
   ],
   "source": [
    "coords = val_counts[0].apply(literal_eval).to_frame().apply(np.array)\n",
    "\n",
    "coords = list(zip(*coords))\n",
    "\n",
    "canvas[coords[1], coords[0]] = [*val_counts[1].apply(np.array)]\n",
    "\n",
    "img = Image.fromarray(np.uint8(canvas / 1000) , 'L')\n",
    "img.show()"
   ]
  },
  {
   "cell_type": "code",
   "execution_count": null,
   "id": "90e117be",
   "metadata": {},
   "outputs": [],
   "source": [
    "val_counts.info()"
   ]
  },
  {
   "cell_type": "code",
   "execution_count": 65,
   "id": "6d9f458a",
   "metadata": {},
   "outputs": [
    {
     "data": {
      "text/plain": [
       "359,564     984\n",
       "0,0         772\n",
       "349,564     765\n",
       "299,499     644\n",
       "0,999       613\n",
       "           ... \n",
       "1721,448      1\n",
       "736,230       1\n",
       "1043,505      1\n",
       "1180,945      1\n",
       "1695,393      1\n",
       "Name: coordinate, Length: 377179, dtype: int64"
      ]
     },
     "metadata": {},
     "output_type": "display_data"
    }
   ],
   "source": [
    "display(val_counts)"
   ]
  },
  {
   "cell_type": "code",
   "execution_count": 72,
   "id": "98c2213b",
   "metadata": {},
   "outputs": [
    {
     "name": "stdout",
     "output_type": "stream",
     "text": [
      "359 564 984\n",
      "0 0 772\n",
      "349 564 765\n",
      "299 499 644\n",
      "0 999 613\n",
      "1999 999 578\n",
      "780 888 540\n",
      "299 508 494\n",
      "633 728 488\n"
     ]
    }
   ],
   "source": [
    "canvas = np.full( (2000,2000),0)\n",
    "val_counts.keys()\n",
    "i = 0\n",
    "for _,(indx,val) in enumerate(val_counts.iteritems()):\n",
    "    i+=1\n",
    "    pos = indx.split(\",\")\n",
    "    x = int(pos[0])\n",
    "    y = int(pos[1])\n",
    "    canvas[y,x] = val\n",
    "    if(i<10): print(x,y,val)\n",
    "    # print('row number: ', rownum, 'index: ', indx, 'value: ', val)"
   ]
  },
  {
   "cell_type": "code",
   "execution_count": null,
   "id": "54646ce5",
   "metadata": {},
   "outputs": [],
   "source": [
    "img = Image.fromarray(np.uint8(canvas / 1000) , 'L')\n",
    "img.show()"
   ]
  },
  {
   "cell_type": "code",
   "execution_count": 33,
   "id": "9dba41c3",
   "metadata": {},
   "outputs": [],
   "source": []
  },
  {
   "cell_type": "code",
   "execution_count": 76,
   "id": "f5452488",
   "metadata": {},
   "outputs": [],
   "source": [
    "\n",
    "img = Image.fromarray(np.uint8( canvas * (255/100) ) , 'L')\n",
    "img.show()"
   ]
  },
  {
   "cell_type": "code",
   "execution_count": 77,
   "id": "c93e0eb5",
   "metadata": {},
   "outputs": [],
   "source": [
    "def make_frame(t):\n",
    "    pass"
   ]
  },
  {
   "cell_type": "code",
   "execution_count": null,
   "id": "cb912ad9",
   "metadata": {},
   "outputs": [],
   "source": [
    "    clip = mpy.VideoClip(make_frame, duration=15.0)\n",
    "    clip.write_gif('ani.gif', fps=10)"
   ]
  }
 ],
 "metadata": {
  "interpreter": {
   "hash": "f6a45ae6d46291290ea510dc5f0c851e54d361080dc62df8a60458580498c4af"
  },
  "kernelspec": {
   "display_name": "Python 3.10.4 64-bit (windows store)",
   "language": "python",
   "name": "python3"
  },
  "language_info": {
   "codemirror_mode": {
    "name": "ipython",
    "version": 3
   },
   "file_extension": ".py",
   "mimetype": "text/x-python",
   "name": "python",
   "nbconvert_exporter": "python",
   "pygments_lexer": "ipython3",
   "version": "3.10.3"
  }
 },
 "nbformat": 4,
 "nbformat_minor": 5
}
